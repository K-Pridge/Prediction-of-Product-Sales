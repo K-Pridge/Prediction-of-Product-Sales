{
  "nbformat": 4,
  "nbformat_minor": 0,
  "metadata": {
    "colab": {
      "provenance": [],
      "authorship_tag": "ABX9TyPBpit6VNz2tuIbedj3AuMG",
      "include_colab_link": true
    },
    "kernelspec": {
      "name": "python3",
      "display_name": "Python 3"
    },
    "language_info": {
      "name": "python"
    }
  },
  "cells": [
    {
      "cell_type": "markdown",
      "metadata": {
        "id": "view-in-github",
        "colab_type": "text"
      },
      "source": [
        "<a href=\"https://colab.research.google.com/github/K-Pridge/Prediction-of-Product-Sales/blob/main/Prediction_of_Product_Sales.ipynb\" target=\"_parent\"><img src=\"https://colab.research.google.com/assets/colab-badge.svg\" alt=\"Open In Colab\"/></a>"
      ]
    },
    {
      "cell_type": "markdown",
      "source": [
        "# Prediction of Product Sales"
      ],
      "metadata": {
        "id": "4b_lFXFXg2Qh"
      }
    },
    {
      "cell_type": "markdown",
      "source": [
        "  - Author: Kyle Pridgen"
      ],
      "metadata": {
        "id": "jXVCsFdZjYBM"
      }
    },
    {
      "cell_type": "markdown",
      "source": [],
      "metadata": {
        "id": "yzv73f2Igv0E"
      }
    },
    {
      "cell_type": "markdown",
      "source": [
        "## Project Overview"
      ],
      "metadata": {
        "id": "wKZLxfIijn6Q"
      }
    },
    {
      "cell_type": "code",
      "source": [],
      "metadata": {
        "id": "khPQ4btcj3A6"
      },
      "execution_count": null,
      "outputs": []
    },
    {
      "cell_type": "markdown",
      "source": [
        "# Load and Inspect Data"
      ],
      "metadata": {
        "id": "tVJbDWyHj3vR"
      }
    },
    {
      "cell_type": "code",
      "source": [],
      "metadata": {
        "id": "CQz2GcJPj7-N"
      },
      "execution_count": null,
      "outputs": []
    },
    {
      "cell_type": "markdown",
      "source": [
        "# Clean Data"
      ],
      "metadata": {
        "id": "-tPtReIOj8ZX"
      }
    },
    {
      "cell_type": "code",
      "source": [],
      "metadata": {
        "id": "BPNK-yEaj_AC"
      },
      "execution_count": null,
      "outputs": []
    },
    {
      "cell_type": "markdown",
      "source": [
        "# Exploratory Data Analysis"
      ],
      "metadata": {
        "id": "WfNcFauXj_jW"
      }
    },
    {
      "cell_type": "code",
      "source": [],
      "metadata": {
        "id": "emj6TkerkD95"
      },
      "execution_count": null,
      "outputs": []
    },
    {
      "cell_type": "markdown",
      "source": [
        "Feature Inspection"
      ],
      "metadata": {
        "id": "sawu9wbykEak"
      }
    },
    {
      "cell_type": "code",
      "source": [],
      "metadata": {
        "id": "1Q4umn6IkHI4"
      },
      "execution_count": null,
      "outputs": []
    }
  ]
}